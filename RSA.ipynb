{
 "cells": [
  {
   "cell_type": "markdown",
   "metadata": {},
   "source": [
    "# Testing standard RSA situations using DWG\n",
    "\n",
    "This jupyter notebook will present in detail how the DWG model presented in my PhD dissertation can successfully imitate standard RSA in the derivation of scalar implicatures.\n",
    "\n",
    "Let's first load all the relevant classes and functions that we are going to use here."
   ]
  },
  {
   "cell_type": "code",
   "execution_count": null,
   "metadata": {},
   "outputs": [],
   "source": [
    "# Import relevant classes and functions\n",
    "\n",
    "from players import Player, Listener, HonestNdivSpeaker\n",
    "from helpers import *\n",
    "from lexica import *\n"
   ]
  },
  {
   "cell_type": "markdown",
   "metadata": {},
   "source": [
    "## Setting the message and personae sets and priors\n",
    "\n",
    "We then list all the worlds, personae and messages we want to take into account in the model along with their semantics. We also set the $\\Pi-LEX$ and SOC-LEX functions, even though they will not be useful in that case, due to the fact that we assume that the utterances used in standard RSA scalar implicature games do not convey any social meaning."
   ]
  },
  {
   "cell_type": "code",
   "execution_count": null,
   "metadata": {},
   "outputs": [],
   "source": [
    "# Available messages\n",
    "messages = [\"none\", \"some\", \"all\"]\n",
    "\n",
    "meanings = {\n",
    "    \"none\": {\"worlds\": [\"w0\"], \"personae\": [\"pi\"]},\n",
    "    \"some\": {\"worlds\": [\"w1\", \"w2\", \"w3\"], \"personae\": [\"pi\"]},\n",
    "    \"all\": {\"worlds\": [\"w3\"], \"personae\": [\"pi\"]},\n",
    "}\n",
    "\n",
    "# Setting the priors.\n",
    "# Define priors over possible worlds here, they have to add up to 1.\n",
    "world_priors = {\"w0\": 1/4, \n",
    "\"w1\": 1/4,\n",
    "\"w2\": 1/4,\n",
    "\"w3\": 1/4,\n",
    "}\n",
    "\n",
    "# Define priors over personae here. They have to add up to 1.\n",
    "pers_priors = {\"pi\": 1}\n",
    "\n",
    "delta_soc = {\"soc_RC\": 1, \"soc_NRC\": 0}\n",
    "\n",
    "pi_lex = {\"piRC\": {\"lex_RC\": 1, \"lex_NRC\": 0}, \"piNRC\": {\"lex_RC\": 0, \"lex_NRC\": 1}}\n",
    "\n",
    "# Build priors as an instance of the Priors class.\n",
    "priors_i = Priors(world_priors, pers_priors, delta_soc, pi_lex)"
   ]
  }
 ],
 "metadata": {
  "language_info": {
   "name": "python"
  },
  "orig_nbformat": 4
 },
 "nbformat": 4,
 "nbformat_minor": 2
}
